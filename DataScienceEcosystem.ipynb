{
 "cells": [
  {
   "cell_type": "markdown",
   "id": "396e0d44",
   "metadata": {},
   "source": [
    "# Data Science Tools and Ecosystem"
   ]
  },
  {
   "cell_type": "markdown",
   "id": "23c331db",
   "metadata": {},
   "source": [
    "In this notebook, Data Science Tools and Ecosystem are summariezed"
   ]
  },
  {
   "cell_type": "markdown",
   "id": "f5696c64",
   "metadata": {},
   "source": [
    "### Objectives-\n",
    "- Popular languages for Data Science include Python, R, and Julia. These languages provide a wide range of tools and libraries specifically designed for data analysis, machine learning, and statistical modeling.\n",
    "- Common data science libraries in Python include NumPy, Pandas, Matplotlib, scikit-learn, TensorFlow, and Keras. These libraries offer functionalities for numerical computing, data manipulation, data visualization, machine learning, and deep learning.\n",
    "- Pandas is a powerful data manipulation library in Python. It provides data structures like DataFrames that allow for efficient handling, cleaning, and transformation of structured data. With Pandas, you can perform tasks such as filtering, sorting, merging, and aggregating data to prepare it for analysis.\n",
    "- Matplotlib is a popular data visualization library in Python. It offers a wide range of plotting functions and options for creating static, animated, and interactive visualizations. With Matplotlib, you can create line plots, scatter plots, bar charts, histograms, heatmaps, and more to effectively represent and analyze your data."
   ]
  },
  {
   "cell_type": "markdown",
   "id": "b3a7ea07",
   "metadata": {},
   "source": [
    "Some of the popular languages that Data Scientists use are:\n",
    "\n",
    "    1. Python\n",
    "    2. R\n",
    "    3. Scala"
   ]
  },
  {
   "cell_type": "markdown",
   "id": "05f90acb",
   "metadata": {},
   "source": [
    "Some of the commonly used libraries used by Data Scientists include:\n",
    "\n",
    "    1. Pandas\n",
    "    2. Matplotlib\n",
    "    3. Scikit-learn\n",
    "    4. Tensorflow\n",
    "    5. Keras\n",
    "    6. NLTK"
   ]
  },
  {
   "cell_type": "markdown",
   "id": "2d5e8a9d",
   "metadata": {},
   "source": [
    "| Data Science Tools |\n",
    "|:-------------------|\n",
    "|Jupyter Notebook|\n",
    "|RStudio|\n",
    "|VScode|"
   ]
  },
  {
   "cell_type": "markdown",
   "id": "6d838a86",
   "metadata": {},
   "source": [
    "### Below are a few examples of evaluating arithmetic expressions in Python"
   ]
  },
  {
   "cell_type": "code",
   "execution_count": 3,
   "id": "96711945",
   "metadata": {},
   "outputs": [
    {
     "data": {
      "text/plain": [
       "17"
      ]
     },
     "execution_count": 3,
     "metadata": {},
     "output_type": "execute_result"
    }
   ],
   "source": [
    "# This a simple arithmetic expression to mutiply then add integers\n",
    "(3*4)+5"
   ]
  },
  {
   "cell_type": "code",
   "execution_count": 5,
   "id": "e7762e05",
   "metadata": {},
   "outputs": [
    {
     "data": {
      "text/plain": [
       "3.3333333333333335"
      ]
     },
     "execution_count": 5,
     "metadata": {},
     "output_type": "execute_result"
    }
   ],
   "source": [
    "# This will convert 200 minutes to hours by diving by 60\n",
    "minutes = 200\n",
    "hours = minutes / 60\n",
    "hours"
   ]
  },
  {
   "cell_type": "markdown",
   "id": "3b8c8afc",
   "metadata": {},
   "source": [
    "## Author\n",
    "Dhanesh Bhandari"
   ]
  },
  {
   "cell_type": "code",
   "execution_count": null,
   "id": "3f3e3ef7",
   "metadata": {},
   "outputs": [],
   "source": []
  }
 ],
 "metadata": {
  "kernelspec": {
   "display_name": "Python 3 (ipykernel)",
   "language": "python",
   "name": "python3"
  },
  "language_info": {
   "codemirror_mode": {
    "name": "ipython",
    "version": 3
   },
   "file_extension": ".py",
   "mimetype": "text/x-python",
   "name": "python",
   "nbconvert_exporter": "python",
   "pygments_lexer": "ipython3",
   "version": "3.10.9"
  }
 },
 "nbformat": 4,
 "nbformat_minor": 5
}
